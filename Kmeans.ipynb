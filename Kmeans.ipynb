{
 "cells": [
  {
   "cell_type": "code",
   "execution_count": 20,
   "metadata": {
    "collapsed": true
   },
   "outputs": [],
   "source": [
    "import numpy as np\n",
    "import matplotlib.pyplot as plt\n",
    "from sklearn.cluster import KMeans\n",
    "import numpy as np\n",
    "%matplotlib inline\n",
    "\n",
    "def getData(balance_ones=True):\n",
    "    # images are 60x12 = 720 size vectors\n",
    "    X = []\n",
    "    Y = []\n",
    "    \n",
    "    first = True\n",
    "    for line in open('imgs_sample_1.csv'):\n",
    "        if first:\n",
    "            first = False\n",
    "        else:\n",
    "            row = line.split(',')\n",
    "            X.append([float(p) for p in row[1].split(' ')])\n",
    "            Y.append(int(row[0])) ##true lable\n",
    "            \n",
    "    X, Y = np.array(X), np.array(Y)\n",
    "    #X = np.array(X)\n",
    "\n",
    "    return X,Y"
   ]
  },
  {
   "cell_type": "code",
   "execution_count": 21,
   "metadata": {
    "collapsed": true
   },
   "outputs": [],
   "source": [
    "def main():   \n",
    "    X,Y = getData()\n",
    "    \n",
    "    kmeans = KMeans(n_clusters=2, random_state=0).fit(X)\n",
    "    label = kmeans.labels_\n",
    "    print(kmeans.labels_)\n",
    "    print(Y)\n",
    "    return kmeans.labels_"
   ]
  },
  {
   "cell_type": "code",
   "execution_count": 22,
   "metadata": {
    "collapsed": false
   },
   "outputs": [
    {
     "name": "stdout",
     "output_type": "stream",
     "text": [
      "[0 0 0 0 0 0 0 0 0 0 0 0 0 0 0 1 0 0 0 0 0 0 0 0 0 0 0 0 0 0 0 0]\n",
      "[ 1  2  3  4  5  6  7  8  9 10 11 12 13 14 15 16 17 18 19 20 21 22 23 24 25\n",
      " 26 27 28 29 30 31 32]\n"
     ]
    }
   ],
   "source": [
    "if __name__ == '__main__':\n",
    "    main()"
   ]
  },
  {
   "cell_type": "code",
   "execution_count": 23,
   "metadata": {
    "collapsed": false
   },
   "outputs": [
    {
     "name": "stdout",
     "output_type": "stream",
     "text": [
      "[0 0 0 0 0 0 0 0 0 0 0 0 0 1 0 1 0 0 0 0 0 0 0 0 0 0 1 0 0 1 0 0]\n",
      "[1 1 1 1 1 1 1 1 1 1 1 1 1 2 1 2 1 1 1 1 1 1 1 1 1 1 2 1 1 2 1 1]\n"
     ]
    }
   ],
   "source": [
    "### kmeans on sample 2\n",
    "import numpy as np\n",
    "import matplotlib.pyplot as plt\n",
    "from sklearn.cluster import KMeans\n",
    "import numpy as np\n",
    "%matplotlib inline\n",
    "\n",
    "def getData(balance_ones=True):\n",
    "    # images are 60x12 = 720 size vectors\n",
    "    X = []\n",
    "    Y = []\n",
    "    \n",
    "    first = True\n",
    "    for line in open('imgs_sample_2.csv'):\n",
    "        if first:\n",
    "            first = False\n",
    "        else:\n",
    "            row = line.split(',')\n",
    "            X.append([float(p) for p in row[1].split(' ')])\n",
    "            Y.append(int(row[0])) ##true lable\n",
    "            \n",
    "    X, Y = np.array(X), np.array(Y)\n",
    "    #X = np.array(X)\n",
    "\n",
    "    return X,Y\n",
    "\n",
    "def main():   \n",
    "    X,Y = getData()\n",
    "    \n",
    "    kmeans = KMeans(n_clusters=2, random_state=0).fit(X)\n",
    "    label = kmeans.labels_\n",
    "    print(kmeans.labels_)\n",
    "    print(Y[label])\n",
    "    return kmeans.labels_\n",
    "\n",
    "if __name__ == '__main__':\n",
    "    main()"
   ]
  },
  {
   "cell_type": "code",
   "execution_count": 24,
   "metadata": {
    "collapsed": false
   },
   "outputs": [
    {
     "name": "stdout",
     "output_type": "stream",
     "text": [
      "[0 0 0 0 0 0 0 0 0 0 0 0 0 1 0 1 0 0 0 0 0 0 0 0 0 0 1 0 0 1 0 0]\n",
      "[1 1 1 1 1 1 1 1 1 1 1 1 1 2 1 2 1 1 1 1 1 1 1 1 1 1 2 1 1 2 1 1]\n"
     ]
    }
   ],
   "source": [
    "### kmeans on sample 3\n",
    "import numpy as np\n",
    "import matplotlib.pyplot as plt\n",
    "from sklearn.cluster import KMeans\n",
    "import numpy as np\n",
    "%matplotlib inline\n",
    "\n",
    "def getData(balance_ones=True):\n",
    "    # images are 60x12 = 720 size vectors\n",
    "    X = []\n",
    "    Y = []\n",
    "    \n",
    "    first = True\n",
    "    for line in open('imgs_sample_3.csv'):\n",
    "        if first:\n",
    "            first = False\n",
    "        else:\n",
    "            row = line.split(',')\n",
    "            X.append([float(p) for p in row[1].split(' ')])\n",
    "            Y.append(int(row[0])) ##true lable\n",
    "            \n",
    "    X, Y = np.array(X), np.array(Y)\n",
    "    #X = np.array(X)\n",
    "\n",
    "    return X,Y\n",
    "\n",
    "def main():   \n",
    "    X,Y = getData()\n",
    "    \n",
    "    kmeans = KMeans(n_clusters=2, random_state=0).fit(X)\n",
    "    label = kmeans.labels_\n",
    "    print(kmeans.labels_)\n",
    "    print(Y[label])\n",
    "    return kmeans.labels_\n",
    "\n",
    "if __name__ == '__main__':\n",
    "    main()"
   ]
  },
  {
   "cell_type": "code",
   "execution_count": 25,
   "metadata": {
    "collapsed": false
   },
   "outputs": [
    {
     "name": "stdout",
     "output_type": "stream",
     "text": [
      "[0 0 0 0 0 0 0 0 0 0 0 0 0 0 0 1 0 0 0 0 0 0 0 0 0 0 1 0 0 0 0 0]\n",
      "[1 1 1 1 1 1 1 1 1 1 1 1 1 1 1 2 1 1 1 1 1 1 1 1 1 1 2 1 1 1 1 1]\n"
     ]
    }
   ],
   "source": [
    "### kmeans on sample 4\n",
    "import numpy as np\n",
    "import matplotlib.pyplot as plt\n",
    "from sklearn.cluster import KMeans\n",
    "import numpy as np\n",
    "%matplotlib inline\n",
    "\n",
    "def getData(balance_ones=True):\n",
    "    # images are 60x12 = 720 size vectors\n",
    "    X = []\n",
    "    Y = []\n",
    "    \n",
    "    first = True\n",
    "    for line in open('imgs_sample_4.csv'):\n",
    "        if first:\n",
    "            first = False\n",
    "        else:\n",
    "            row = line.split(',')\n",
    "            X.append([float(p) for p in row[1].split(' ')])\n",
    "            Y.append(int(row[0])) ##true lable\n",
    "            \n",
    "    X, Y = np.array(X), np.array(Y)\n",
    "    #X = np.array(X)\n",
    "\n",
    "    return X,Y\n",
    "\n",
    "def main():   \n",
    "    X,Y = getData()\n",
    "    \n",
    "    kmeans = KMeans(n_clusters=2, random_state=0).fit(X)\n",
    "    label = kmeans.labels_\n",
    "    print(kmeans.labels_)\n",
    "    print(Y[label])\n",
    "    return kmeans.labels_\n",
    "\n",
    "if __name__ == '__main__':\n",
    "    main()"
   ]
  },
  {
   "cell_type": "code",
   "execution_count": 26,
   "metadata": {
    "collapsed": false
   },
   "outputs": [
    {
     "name": "stdout",
     "output_type": "stream",
     "text": [
      "[0 0 0 0 0 0 0 0 0 0 0 0 0 0 0 1 0 0 0 0 0 0 0 0 0 0 1 0 0 0 0 0]\n",
      "[1 1 1 1 1 1 1 1 1 1 1 1 1 1 1 2 1 1 1 1 1 1 1 1 1 1 2 1 1 1 1 1]\n"
     ]
    }
   ],
   "source": [
    "### kmeans on sample 5\n",
    "import numpy as np\n",
    "import matplotlib.pyplot as plt\n",
    "from sklearn.cluster import KMeans\n",
    "import numpy as np\n",
    "%matplotlib inline\n",
    "\n",
    "def getData(balance_ones=True):\n",
    "    # images are 60x12 = 720 size vectors\n",
    "    X = []\n",
    "    Y = []\n",
    "    \n",
    "    first = True\n",
    "    for line in open('imgs_sample_5.csv'):\n",
    "        if first:\n",
    "            first = False\n",
    "        else:\n",
    "            row = line.split(',')\n",
    "            X.append([float(p) for p in row[1].split(' ')])\n",
    "            Y.append(int(row[0])) ##true lable\n",
    "            \n",
    "    X, Y = np.array(X), np.array(Y)\n",
    "    #X = np.array(X)\n",
    "\n",
    "    return X,Y\n",
    "\n",
    "def main():   \n",
    "    X,Y = getData()\n",
    "    \n",
    "    kmeans = KMeans(n_clusters=2, random_state=0).fit(X)\n",
    "    label = kmeans.labels_\n",
    "    print(kmeans.labels_)\n",
    "    print(Y[label])\n",
    "    return kmeans.labels_\n",
    "\n",
    "if __name__ == '__main__':\n",
    "    main()"
   ]
  },
  {
   "cell_type": "code",
   "execution_count": 27,
   "metadata": {
    "collapsed": false
   },
   "outputs": [
    {
     "name": "stdout",
     "output_type": "stream",
     "text": [
      "[0 0 0 0 0 0 0 0 0 0 0 0 0 0 0 1 0 0 0 0 0 0 0 0 0 0 1 0 0 0 0 0]\n",
      "[1 1 1 1 1 1 1 1 1 1 1 1 1 1 1 2 1 1 1 1 1 1 1 1 1 1 2 1 1 1 1 1]\n"
     ]
    }
   ],
   "source": [
    "### kmeans on sample 6\n",
    "import numpy as np\n",
    "import matplotlib.pyplot as plt\n",
    "from sklearn.cluster import KMeans\n",
    "import numpy as np\n",
    "%matplotlib inline\n",
    "\n",
    "def getData(balance_ones=True):\n",
    "    # images are 60x12 = 720 size vectors\n",
    "    X = []\n",
    "    Y = []\n",
    "    \n",
    "    first = True\n",
    "    for line in open('imgs_sample_6.csv'):\n",
    "        if first:\n",
    "            first = False\n",
    "        else:\n",
    "            row = line.split(',')\n",
    "            X.append([float(p) for p in row[1].split(' ')])\n",
    "            Y.append(int(row[0])) ##true lable\n",
    "            \n",
    "    X, Y = np.array(X), np.array(Y)\n",
    "    #X = np.array(X)\n",
    "\n",
    "    return X,Y\n",
    "\n",
    "def main():   \n",
    "    X,Y = getData()\n",
    "    \n",
    "    kmeans = KMeans(n_clusters=2, random_state=0).fit(X)\n",
    "    label = kmeans.labels_\n",
    "    print(kmeans.labels_)\n",
    "    print(Y[label])\n",
    "    return kmeans.labels_\n",
    "\n",
    "if __name__ == '__main__':\n",
    "    main()"
   ]
  },
  {
   "cell_type": "code",
   "execution_count": 28,
   "metadata": {
    "collapsed": false
   },
   "outputs": [
    {
     "name": "stdout",
     "output_type": "stream",
     "text": [
      "[0 0 0 0 0 0 0 0 0 0 0 0 0 0 0 1 0 0 0 0 0 0 0 0 0 0 0 0 0 0 0 0]\n",
      "[1 1 1 1 1 1 1 1 1 1 1 1 1 1 1 2 1 1 1 1 1 1 1 1 1 1 1 1 1 1 1 1]\n"
     ]
    }
   ],
   "source": [
    "### kmeans on sample 7\n",
    "import numpy as np\n",
    "import matplotlib.pyplot as plt\n",
    "from sklearn.cluster import KMeans\n",
    "import numpy as np\n",
    "%matplotlib inline\n",
    "\n",
    "def getData(balance_ones=True):\n",
    "    # images are 60x12 = 720 size vectors\n",
    "    X = []\n",
    "    Y = []\n",
    "    \n",
    "    first = True\n",
    "    for line in open('imgs_sample_7.csv'):\n",
    "        if first:\n",
    "            first = False\n",
    "        else:\n",
    "            row = line.split(',')\n",
    "            X.append([float(p) for p in row[1].split(' ')])\n",
    "            Y.append(int(row[0])) ##true lable\n",
    "            \n",
    "    X, Y = np.array(X), np.array(Y)\n",
    "    #X = np.array(X)\n",
    "\n",
    "    return X,Y\n",
    "\n",
    "def main():   \n",
    "    X,Y = getData()\n",
    "    \n",
    "    kmeans = KMeans(n_clusters=2, random_state=0).fit(X)\n",
    "    label = kmeans.labels_\n",
    "    print(kmeans.labels_)\n",
    "    print(Y[label])\n",
    "    return kmeans.labels_\n",
    "\n",
    "if __name__ == '__main__':\n",
    "    main()"
   ]
  },
  {
   "cell_type": "markdown",
   "metadata": {},
   "source": [
    "## kmeans on sample 1 and 3"
   ]
  },
  {
   "cell_type": "code",
   "execution_count": 25,
   "metadata": {
    "collapsed": false
   },
   "outputs": [
    {
     "name": "stdout",
     "output_type": "stream",
     "text": [
      "[ 8  8 27 23 26 26  0 27 19 26 13 27 13 16 26  4 26 25 26 21 17  8  8  8  8\n",
      " 20  2  8 26 10  3 26 26  8 13  9 19 27 27 12 18 28 29 13 28 11  8  1 26  7\n",
      "  8 30 17 26 15 22 22 24  5 31 22  6 14 26]\n",
      "[ 1  2  3  4  5  6  7  8  9 10 11 12 13 14 15 16 17 18 19 20 21 22 23 24 25\n",
      " 26 27 28 29 30 31 32  1  2  3  4  5  6  7  8  9 10 11 12 13 14 15 16 17 18\n",
      " 19 20 21 22 23 24 25 26 27 28 29 30 31 32]\n"
     ]
    }
   ],
   "source": [
    "### kmeans on sample 1 and 3\n",
    "import numpy as np\n",
    "import matplotlib.pyplot as plt\n",
    "from sklearn.cluster import KMeans\n",
    "import numpy as np\n",
    "%matplotlib inline\n",
    "\n",
    "def getData(balance_ones=True):\n",
    "    # images are 60x12 = 720 size vectors\n",
    "    X = []\n",
    "    Y = []\n",
    "    \n",
    "    first = True\n",
    "    for line in open('imgs_sample_1and3.csv'):\n",
    "        if first:\n",
    "            first = False\n",
    "        else:\n",
    "            row = line.split(',')\n",
    "            X.append([float(p) for p in row[1].split(' ')])\n",
    "            Y.append(int(row[0])) ##true lable\n",
    "            \n",
    "    X, Y = np.array(X), np.array(Y)\n",
    "    #X = np.array(X)\n",
    "\n",
    "    return X,Y\n",
    "\n",
    "def main():   \n",
    "    X,Y = getData()\n",
    "    \n",
    "    kmeans = KMeans(n_clusters=32, random_state=0).fit(X)\n",
    "    label = kmeans.labels_\n",
    "    print(kmeans.labels_)\n",
    "    print(Y)\n",
    "    return kmeans.labels_\n",
    "\n",
    "if __name__ == '__main__':\n",
    "    main()"
   ]
  },
  {
   "cell_type": "markdown",
   "metadata": {
    "collapsed": true
   },
   "source": [
    "## k-means using imgs_sample data in 32 clusters"
   ]
  },
  {
   "cell_type": "code",
   "execution_count": 9,
   "metadata": {
    "collapsed": true
   },
   "outputs": [],
   "source": [
    "import numpy as np\n",
    "import matplotlib.pyplot as plt\n",
    "from sklearn.cluster import KMeans\n",
    "import numpy as np\n",
    "%matplotlib inline\n",
    "\n",
    "def getData(balance_ones=True):\n",
    "    # images are 60x12 = 720 size vectors\n",
    "    NUM = []  #1 - 32\n",
    "    SAMPLE = []  #7\n",
    "    X = []  #32*7\n",
    "    \n",
    "    first = True\n",
    "    for line in open('all_samples.csv'):\n",
    "        if first:\n",
    "            first = False\n",
    "        else:\n",
    "            row = line.split(',')\n",
    "            NUM.append(int(row[0]))  #cell number\n",
    "            SAMPLE.append(int(row[1]))  #sample number\n",
    "            X.append([float(p) for p in row[2].split(' ')])\n",
    "            \n",
    "    NUM, SAMPLE, X = np.array(NUM), np.array(SAMPLE), np.array(X)\n",
    "    #X = np.array(X)\n",
    "\n",
    "    return NUM, SAMPLE, X\n",
    "\n"
   ]
  },
  {
   "cell_type": "code",
   "execution_count": 10,
   "metadata": {
    "collapsed": false
   },
   "outputs": [
    {
     "name": "stdout",
     "output_type": "stream",
     "text": [
      "[ 0  0 31 11  0  0 31 31 11  0 31 31 31 12  0  3  0 30  0 30 30  0  0  0  0\n",
      " 30 27  0  0  5 18  0  0  0  0 31  0  0  0  0 31  0  0  0 31 25  0 12  0 30\n",
      "  0  0 30  0  0  0  0 15 23  0  0 28  0  0  0  0 31 12 11 31 31 11 25 11 11\n",
      " 31 11 21 31 17  0 23  0 30 30  0 15 31 31 23 13 15 31  6 24  0  0  0  0 31\n",
      "  0  0 30 11 19  0 25 11 11 27  0  9 31 28 31 23 28 15 15 15 31 14  1 15 31\n",
      " 16 26  0  0  0  0 31  0  0 15 11 19  0 25 11 11 27  0  7  0 23  0 30 23 31\n",
      " 15 31 31 23 10 15  0  0 24  0  0  0  0 31  0  0 11 11 19  0 25 11 11  2  0\n",
      "  4 31 14 31 23 14 15 15 15 31 14  8 15 31 20 29  0  0  0  0 31  0  0 31 31\n",
      " 25  0 31  0 31 11  0 22  0 30  0 31 31  0  0  0  0 31 28  0  0 15  0  0]\n",
      "[ 1  2  3  4  5  6  7  8  9 10 11 12 13 14 15 16 17 18 19 20 21 22 23 24 25\n",
      " 26 27 28 29 30 31 32  1  2  3  4  5  6  7  8  9 10 11 12 13 14 15 16 17 18\n",
      " 19 20 21 22 23 24 25 26 27 28 29 30 31 32  1  2  3  4  5  6  7  8  9 10 11\n",
      " 12 13 14 15 16 17 18 19 20 21 22 23 24 25 26 27 28 29 30 31 32  1  2  3  4\n",
      "  5  6  7  8  9 10 11 12 13 14 15 16 17 18 19 20 21 22 23 24 25 26 27 28 29\n",
      " 30 31 32  1  2  3  4  5  6  7  8  9 10 11 12 13 14 15 16 17 18 19 20 21 22\n",
      " 23 24 25 26 27 28 29 30 31 32  1  2  3  4  5  6  7  8  9 10 11 12 13 14 15\n",
      " 16 17 18 19 20 21 22 23 24 25 26 27 28 29 30 31 32  1  2  3  4  5  6  7  8\n",
      "  9 10 11 12 13 14 15 16 17 18 19 20 21 22 23 24 25 26 27 28 29 30 31 32]\n"
     ]
    }
   ],
   "source": [
    "def main():   \n",
    "    NUM, SAMPLE, X = getData()\n",
    "    \n",
    "    kmeans = KMeans(n_clusters=32, random_state=0).fit(X)\n",
    "    label = kmeans.labels_\n",
    "    print(kmeans.labels_)\n",
    "    print(NUM)\n",
    "    np.savetxt('/Users/shuixinjiang/Desktop/DATS6203/Final/imgs_kmeans.csv',kmeans.labels_,delimiter=',')\n",
    "\n",
    "    return kmeans.labels_\n",
    "\n",
    "if __name__ == '__main__':\n",
    "    main()"
   ]
  },
  {
   "cell_type": "markdown",
   "metadata": {},
   "source": [
    "## k-means using imgs_sample data in 8 clusters"
   ]
  },
  {
   "cell_type": "code",
   "execution_count": 15,
   "metadata": {
    "collapsed": false
   },
   "outputs": [
    {
     "name": "stdout",
     "output_type": "stream",
     "text": [
      "[0 0 0 7 0 0 4 7 4 0 0 7 7 6 0 6 0 2 0 2 2 7 0 0 7 2 6 0 0 5 3 0 0 0 0 0 0\n",
      " 0 0 7 7 0 0 0 7 4 0 4 0 2 0 0 2 7 0 0 0 2 4 0 0 5 0 0 0 0 0 4 7 0 4 7 4 7\n",
      " 7 0 7 1 0 5 0 2 0 4 4 0 7 7 7 2 1 7 7 3 1 0 0 0 0 0 0 0 2 7 2 0 7 7 4 5 0\n",
      " 5 7 6 7 2 2 7 4 7 7 6 3 4 7 3 1 0 0 0 0 0 0 0 2 7 2 0 7 7 7 6 0 1 0 2 0 4\n",
      " 4 7 7 7 7 2 3 7 0 0 5 0 0 0 0 0 0 0 2 7 6 0 4 7 7 5 0 1 7 6 0 4 2 7 4 7 7\n",
      " 6 3 4 7 3 1 0 0 0 0 0 0 0 4 7 4 0 0 0 0 4 0 2 0 4 0 7 7 0 0 7 0 4 6 0 0 6\n",
      " 0 0]\n",
      "[ 1  2  3  4  5  6  7  8  9 10 11 12 13 14 15 16 17 18 19 20 21 22 23 24 25\n",
      " 26 27 28 29 30 31 32  1  2  3  4  5  6  7  8  9 10 11 12 13 14 15 16 17 18\n",
      " 19 20 21 22 23 24 25 26 27 28 29 30 31 32  1  2  3  4  5  6  7  8  9 10 11\n",
      " 12 13 14 15 16 17 18 19 20 21 22 23 24 25 26 27 28 29 30 31 32  1  2  3  4\n",
      "  5  6  7  8  9 10 11 12 13 14 15 16 17 18 19 20 21 22 23 24 25 26 27 28 29\n",
      " 30 31 32  1  2  3  4  5  6  7  8  9 10 11 12 13 14 15 16 17 18 19 20 21 22\n",
      " 23 24 25 26 27 28 29 30 31 32  1  2  3  4  5  6  7  8  9 10 11 12 13 14 15\n",
      " 16 17 18 19 20 21 22 23 24 25 26 27 28 29 30 31 32  1  2  3  4  5  6  7  8\n",
      "  9 10 11 12 13 14 15 16 17 18 19 20 21 22 23 24 25 26 27 28 29 30 31 32]\n"
     ]
    }
   ],
   "source": [
    "import numpy as np\n",
    "import matplotlib.pyplot as plt\n",
    "from sklearn.cluster import KMeans\n",
    "import numpy as np\n",
    "%matplotlib inline\n",
    "\n",
    "def getData(balance_ones=True):\n",
    "    # images are 60x12 = 720 size vectors\n",
    "    NUM = []  #1 - 32\n",
    "    SAMPLE = []  #7\n",
    "    X1 = []  #32*7\n",
    "    X2 = []  #32*7\n",
    "    \n",
    "    first = False\n",
    "    for line in open('pca_data.csv'):\n",
    "        if first:\n",
    "            first = True\n",
    "        else:\n",
    "            row = line.split(',')\n",
    "            NUM.append(int(row[2]))  #cell number\n",
    "            SAMPLE.append(int(row[3]))  #sample number\n",
    "            X1.append([float(p) for p in row[0].split(' ')])\n",
    "            X2.append([float(p) for p in row[1].split(' ')])\n",
    "            \n",
    "    NUM, SAMPLE, X1, X2 = np.array(NUM), np.array(SAMPLE), np.array(X1), np.array(X2)\n",
    "    #X = np.array(X)\n",
    "\n",
    "    return NUM, SAMPLE, X1, X2\n",
    "\n",
    "def main():   \n",
    "    NUM, SAMPLE, X1, X2 = getData()\n",
    "    \n",
    "    kmeans = KMeans(n_clusters=8, random_state=0).fit(X1, X2)\n",
    "    label = kmeans.labels_\n",
    "    print(kmeans.labels_)\n",
    "    print(NUM)\n",
    "    np.savetxt('/Users/shuixinjiang/Desktop/DATS6203/Final/pca_kmeans8.csv',kmeans.labels_,delimiter=',')\n",
    "\n",
    "    return kmeans.labels_\n",
    "\n",
    "if __name__ == '__main__':\n",
    "    main()"
   ]
  },
  {
   "cell_type": "markdown",
   "metadata": {
    "collapsed": true
   },
   "source": [
    "## k-means using post-pca data 224 rows * 2 features"
   ]
  },
  {
   "cell_type": "code",
   "execution_count": 16,
   "metadata": {
    "collapsed": true
   },
   "outputs": [],
   "source": [
    "import numpy as np\n",
    "import matplotlib.pyplot as plt\n",
    "from sklearn.cluster import KMeans\n",
    "import numpy as np\n",
    "%matplotlib inline\n",
    "\n",
    "def getData(balance_ones=True):\n",
    "    # images are 60x12 = 720 size vectors\n",
    "    NUM = []  #1 - 32\n",
    "    SAMPLE = []  #7\n",
    "    X1 = []  #32*7\n",
    "    X2 = []  #32*7\n",
    "    \n",
    "    first = False\n",
    "    for line in open('pca_data.csv'):\n",
    "        if first:\n",
    "            first = True\n",
    "        else:\n",
    "            row = line.split(',')\n",
    "            NUM.append(int(row[2]))  #cell number\n",
    "            SAMPLE.append(int(row[3]))  #sample number\n",
    "            X1.append([float(p) for p in row[0].split(' ')])\n",
    "            X2.append([float(p) for p in row[1].split(' ')])\n",
    "            \n",
    "    NUM, SAMPLE, X1, X2 = np.array(NUM), np.array(SAMPLE), np.array(X1), np.array(X2)\n",
    "    #X = np.array(X)\n",
    "\n",
    "    return NUM, SAMPLE, X1, X2"
   ]
  },
  {
   "cell_type": "code",
   "execution_count": 17,
   "metadata": {
    "collapsed": false
   },
   "outputs": [
    {
     "name": "stdout",
     "output_type": "stream",
     "text": [
      "[ 0 14 23 29 14 14 25 29  4  0 23 11 29 12  0 24 14  3 16 22 22 11  0 16 11\n",
      " 28 12 16 16 20  2  0 14 14 23 16 14 27 27 11 31 27 16 16 29 25  0 25 14  3\n",
      " 27 27 22 11  0 16 27  3 19 16 16 15 27 27 14 14 23 18  6 23 19 30  9 30 31\n",
      " 23 30  5 16 20  0 22 16 25 25 23 31 29  6  3 13 18 11  8 17 16 14 14 16  0\n",
      " 14  0  3 30  3  0 30  6 18 26  0  1 11 24 11 22 28  6 18  6  6 24  8  4 11\n",
      " 21 13 16 14 14 16  0 14 14 22  6  3  0 31  6  6 15  0 17 16  3 16  4  9 29\n",
      " 30  6 29 28  8 30 23 27 20 16 14 14 16  0 14  0 28 18 12  0 18  6 18 20  0\n",
      "  5 11  7 23 25  3 30  4 30 30  7 10 19 11 21 17 23 14 14 16  0 14 14 19 11\n",
      "  4  0 23 16 23 19 27 28 16 25 27  6 30 23  0 29 23  9 12 16 16  7 27 27]\n",
      "[ 1  2  3  4  5  6  7  8  9 10 11 12 13 14 15 16 17 18 19 20 21 22 23 24 25\n",
      " 26 27 28 29 30 31 32  1  2  3  4  5  6  7  8  9 10 11 12 13 14 15 16 17 18\n",
      " 19 20 21 22 23 24 25 26 27 28 29 30 31 32  1  2  3  4  5  6  7  8  9 10 11\n",
      " 12 13 14 15 16 17 18 19 20 21 22 23 24 25 26 27 28 29 30 31 32  1  2  3  4\n",
      "  5  6  7  8  9 10 11 12 13 14 15 16 17 18 19 20 21 22 23 24 25 26 27 28 29\n",
      " 30 31 32  1  2  3  4  5  6  7  8  9 10 11 12 13 14 15 16 17 18 19 20 21 22\n",
      " 23 24 25 26 27 28 29 30 31 32  1  2  3  4  5  6  7  8  9 10 11 12 13 14 15\n",
      " 16 17 18 19 20 21 22 23 24 25 26 27 28 29 30 31 32  1  2  3  4  5  6  7  8\n",
      "  9 10 11 12 13 14 15 16 17 18 19 20 21 22 23 24 25 26 27 28 29 30 31 32]\n"
     ]
    }
   ],
   "source": [
    "def main():   \n",
    "    NUM, SAMPLE, X1, X2 = getData()\n",
    "    \n",
    "    kmeans = KMeans(n_clusters=32, random_state=0).fit(X1, X2)\n",
    "    label = kmeans.labels_\n",
    "    print(kmeans.labels_)\n",
    "    print(NUM)\n",
    "    np.savetxt('/Users/shuixinjiang/Desktop/DATS6203/Final/pca_kmeans.csv',kmeans.labels_,delimiter=',')\n",
    "\n",
    "    return kmeans.labels_\n",
    "\n",
    "if __name__ == '__main__':\n",
    "    main()"
   ]
  },
  {
   "cell_type": "code",
   "execution_count": null,
   "metadata": {
    "collapsed": true
   },
   "outputs": [],
   "source": []
  }
 ],
 "metadata": {
  "kernelspec": {
   "display_name": "Python 3",
   "language": "python",
   "name": "python3"
  },
  "language_info": {
   "codemirror_mode": {
    "name": "ipython",
    "version": 3
   },
   "file_extension": ".py",
   "mimetype": "text/x-python",
   "name": "python",
   "nbconvert_exporter": "python",
   "pygments_lexer": "ipython3",
   "version": "3.5.1"
  }
 },
 "nbformat": 4,
 "nbformat_minor": 0
}
