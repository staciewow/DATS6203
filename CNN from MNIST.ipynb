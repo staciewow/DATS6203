{
 "cells": [
  {
   "cell_type": "code",
   "execution_count": 12,
   "metadata": {
    "collapsed": false
   },
   "outputs": [],
   "source": [
    "import tensorflow as tf\n",
    "import numpy as np\n",
    "import os\n",
    "import pandas as pd\n",
    "import matplotlib.pyplot as plt\n",
    "%matplotlib inline\n",
    "\n",
    "dir = \"/Users/shuixinjiang/Desktop/DATS6203/MidProj/training_demo/signal/datasets\"\n",
    "os.chdir(dir)\n",
    "\n",
    "#bbs = np.loadtxt('bbs-train.txt')\n",
    "all_info = np.loadtxt('cnn_data.txt')\n",
    "label = np.loadtxt('label-train-dummy.txt')\n",
    "\n",
    "from sklearn.cross_validation import train_test_split\n",
    "x_train, x_test, y_train, y_test = train_test_split(all_info, label, test_size=0.3, random_state=0)"
   ]
  },
  {
   "cell_type": "code",
   "execution_count": 15,
   "metadata": {
    "collapsed": false
   },
   "outputs": [
    {
     "name": "stdout",
     "output_type": "stream",
     "text": [
      "0.659824\n"
     ]
    }
   ],
   "source": [
    "# input\n",
    "x = tf.placeholder(\"float\", [None, 1528])\n",
    "y_ = tf.placeholder(\"float\", [None, 2])\n",
    "\n",
    "# inference\n",
    "W = tf.Variable(tf.zeros([1528, 2]))\n",
    "b = tf.Variable(tf.zeros([1, 2]))\n",
    "matm=tf.matmul(x,W)\n",
    "y = tf.nn.softmax(tf.matmul(x,W) + b)\n",
    "\n",
    "# loss\n",
    "cross_entropy = -tf.reduce_sum(y_*tf.log(y))\n",
    "\n",
    "# training\n",
    "train_step = tf.train.GradientDescentOptimizer(0.00001).minimize(cross_entropy)\n",
    "\n",
    "\n",
    "# training cycles\n",
    "sess = tf.Session()\n",
    "sess.run(tf.global_variables_initializer())\n",
    "\n",
    "batch_size = 70\n",
    "\n",
    "for i in range(500):\n",
    "    batch_start_idx = (i * batch_size) % (len(label) - batch_size)\n",
    "    batch_end_idx = batch_start_idx + batch_size\n",
    "    xs = x_train[batch_start_idx:batch_end_idx]\n",
    "    ys = y_train[batch_start_idx:batch_end_idx]\n",
    "    \n",
    "    xs_test = x_test[batch_start_idx:batch_end_idx]\n",
    "    ys_test = y_test[batch_start_idx:batch_end_idx]\n",
    "    \n",
    "    batch_xs = np.array(xs)\n",
    "    batch_ys = np.array(ys)\n",
    "    \n",
    "    batch_xs_test = np.array(xs_test)\n",
    "    batch_ys_test = np.array(ys_test)\n",
    "    \n",
    "    _, y_pred = sess.run((train_step, y), feed_dict={x: batch_xs, y_: batch_ys})\n",
    "    correct_prediction = tf.equal(tf.argmax(y,axis=1), tf.argmax(y_,axis=1)) # y=(m*c) so axis=1 along c\n",
    "    accuracy = tf.reduce_mean(tf.cast(correct_prediction, \"float\"))\n",
    "\n",
    "    #print sess.run(correct_prediction, feed_dict={x: batch_xs, y_: batch_ys})\n",
    "    #print sess.run(accuracy, feed_dict={x: batch_xs, y_: batch_ys})\n",
    "    \n",
    "print (sess.run(accuracy, feed_dict={x: x_test, y_: y_test}))"
   ]
  },
  {
   "cell_type": "code",
   "execution_count": null,
   "metadata": {
    "collapsed": true
   },
   "outputs": [],
   "source": []
  }
 ],
 "metadata": {
  "kernelspec": {
   "display_name": "Python 3",
   "language": "python",
   "name": "python3"
  },
  "language_info": {
   "codemirror_mode": {
    "name": "ipython",
    "version": 3
   },
   "file_extension": ".py",
   "mimetype": "text/x-python",
   "name": "python",
   "nbconvert_exporter": "python",
   "pygments_lexer": "ipython3",
   "version": "3.5.1"
  }
 },
 "nbformat": 4,
 "nbformat_minor": 0
}
