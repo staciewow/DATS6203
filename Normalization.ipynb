{
 "cells": [
  {
   "cell_type": "markdown",
   "metadata": {},
   "source": [
    "## MinMax Normalization: \n",
    "Normalization using scikit minmax-scalar:\n",
    "\n",
    "It is also known as least absolute deviations (LAD), least absolute errors (LAE). It is basically minimizing the sum of the absolute differences (S) between the target value (Yi) and the estimated values (f(xi))\n",
    "\n",
    "To understand easily, its just adding all the values in the array and dividing each of it using the sum.\n",
    "\n",
    "Reference: https://github.com/skcript/normalization/blob/master/01_minmax_normalization.ipynb"
   ]
  },
  {
   "cell_type": "code",
   "execution_count": 26,
   "metadata": {
    "collapsed": true
   },
   "outputs": [],
   "source": [
    "import pandas as pd\n",
    "import tensorflow as tf \n",
    "import numpy as np \n",
    "import matplotlib.pyplot as plt\n",
    "from scipy import stats\n",
    "%matplotlib inline\n",
    "\n",
    "from sklearn.preprocessing import normalize, minmax_scale"
   ]
  },
  {
   "cell_type": "code",
   "execution_count": 3,
   "metadata": {
    "collapsed": false
   },
   "outputs": [
    {
     "name": "stdout",
     "output_type": "stream",
     "text": [
      "(224, 722)\n",
      "(224, 720)\n",
      "(224, 1)\n"
     ]
    }
   ],
   "source": [
    "data = pd.read_csv('imgs_720feature_2.csv', header = 0)\n",
    "print(data.shape)\n",
    "feature = pd.DataFrame.as_matrix(data.iloc[:,2:722])\n",
    "record = pd.DataFrame.as_matrix(data.iloc[:,1:2])\n",
    "print(feature.shape)\n",
    "print(record.shape)"
   ]
  },
  {
   "cell_type": "code",
   "execution_count": 22,
   "metadata": {
    "collapsed": false
   },
   "outputs": [],
   "source": [
    "result = np.array(minmax_scale(feature.astype(float).reshape(224,720), axis=1).reshape(224,720))"
   ]
  },
  {
   "cell_type": "code",
   "execution_count": 23,
   "metadata": {
    "collapsed": false
   },
   "outputs": [
    {
     "name": "stdout",
     "output_type": "stream",
     "text": [
      "(224, 720)\n"
     ]
    },
    {
     "data": {
      "text/plain": [
       "array([[ 0.00299634,  0.        ,  0.00125846, ...,  0.0071313 ,\n",
       "         0.00335591,  0.00323605],\n",
       "       [ 0.00071052,  0.        ,  0.00121803, ...,  0.02913114,\n",
       "         0.01958993,  0.03004466],\n",
       "       [ 0.05111885,  0.06204716,  0.06833193, ...,  0.0165726 ,\n",
       "         0.00804612,  0.00444338],\n",
       "       ..., \n",
       "       [ 0.04801456,  0.03774906,  0.02893005, ...,  0.06854556,\n",
       "         0.05534039,  0.02487051],\n",
       "       [ 0.02611958,  0.03506164,  0.04424736, ...,  0.00929536,\n",
       "         0.01140295,  0.01606891],\n",
       "       [ 0.03793627,  0.06050835,  0.1107739 , ...,  0.10811836,\n",
       "         0.1168437 ,  0.10147951]])"
      ]
     },
     "execution_count": 23,
     "metadata": {},
     "output_type": "execute_result"
    }
   ],
   "source": [
    "print(result.shape)\n",
    "result[:10]"
   ]
  },
  {
   "cell_type": "code",
   "execution_count": 25,
   "metadata": {
    "collapsed": false
   },
   "outputs": [],
   "source": [
    "np.savetxt('/Users/shuixinjiang/Desktop/DATS6203/Final/minmax_data.csv',result,delimiter=',')"
   ]
  },
  {
   "cell_type": "markdown",
   "metadata": {},
   "source": [
    "## Max Normalization\n",
    "\n",
    "Normalization using scikit max-norm:\n",
    "\n",
    "It is also known as least absolute deviations (LAD), least absolute errors (LAE). It is basically minimizing the sum of the absolute differences (S) between the target value (Yi) and the estimated values (f(xi))\n",
    "\n",
    "To understand easily, its just adding all the values in the array and dividing each of it using the sum\n",
    "\n",
    "Reference: https://github.com/skcript/normalization/blob/master/02_max_normalization.ipynb"
   ]
  },
  {
   "cell_type": "code",
   "execution_count": 28,
   "metadata": {
    "collapsed": false
   },
   "outputs": [],
   "source": [
    "result1 = normalize(feature.astype(float).reshape(224,720), norm='max', axis=1).reshape(224,720)"
   ]
  },
  {
   "cell_type": "code",
   "execution_count": 29,
   "metadata": {
    "collapsed": false
   },
   "outputs": [
    {
     "name": "stdout",
     "output_type": "stream",
     "text": [
      "(224, 720)\n"
     ]
    },
    {
     "data": {
      "text/plain": [
       "array([[ 0.00299634,  0.        ,  0.00125846, ...,  0.0071313 ,\n",
       "         0.00335591,  0.00323605],\n",
       "       [ 0.00071052,  0.        ,  0.00121803, ...,  0.02913114,\n",
       "         0.01958993,  0.03004466],\n",
       "       [ 0.05138466,  0.06230991,  0.06859292, ...,  0.01684809,\n",
       "         0.008324  ,  0.00472227],\n",
       "       ..., \n",
       "       [ 0.06874201,  0.05870002,  0.05007303, ...,  0.088826  ,\n",
       "         0.07590834,  0.04610188],\n",
       "       [ 0.02880538,  0.03772278,  0.04688316, ...,  0.01202755,\n",
       "         0.01412934,  0.01878242],\n",
       "       [ 0.03793627,  0.06050835,  0.1107739 , ...,  0.10811836,\n",
       "         0.1168437 ,  0.10147951]])"
      ]
     },
     "execution_count": 29,
     "metadata": {},
     "output_type": "execute_result"
    }
   ],
   "source": [
    "print(result1.shape)\n",
    "result1[:10]"
   ]
  },
  {
   "cell_type": "code",
   "execution_count": 30,
   "metadata": {
    "collapsed": true
   },
   "outputs": [],
   "source": [
    "np.savetxt('/Users/shuixinjiang/Desktop/DATS6203/Final/masxnorm_data.csv',result1,delimiter=',')"
   ]
  },
  {
   "cell_type": "code",
   "execution_count": null,
   "metadata": {
    "collapsed": true
   },
   "outputs": [],
   "source": []
  }
 ],
 "metadata": {
  "kernelspec": {
   "display_name": "Python 3",
   "language": "python",
   "name": "python3"
  },
  "language_info": {
   "codemirror_mode": {
    "name": "ipython",
    "version": 3
   },
   "file_extension": ".py",
   "mimetype": "text/x-python",
   "name": "python",
   "nbconvert_exporter": "python",
   "pygments_lexer": "ipython3",
   "version": "3.5.1"
  }
 },
 "nbformat": 4,
 "nbformat_minor": 0
}
