{
 "cells": [
  {
   "cell_type": "code",
   "execution_count": 3,
   "metadata": {
    "collapsed": false
   },
   "outputs": [
    {
     "name": "stdout",
     "output_type": "stream",
     "text": [
      "Final DataSet:  (6010, 800)\n",
      "i: 0 cost: 858.052016356 error: 0.538269550749\n",
      "i: 100 cost: 594.480454491 error: 0.177204658902\n",
      "i: 200 cost: 563.976126777 error: 0.171381031614\n",
      "i: 300 cost: 546.173138345 error: 0.158069883527\n",
      "i: 400 cost: 524.031671841 error: 0.167221297837\n",
      "best_validation_error: 0.158069883527\n"
     ]
    },
    {
     "data": {
      "image/png": "[encoded data removed]",
      "text/plain": [
       "<matplotlib.figure.Figure at 0x1163ddb38>"
      ]
     },
     "metadata": {},
     "output_type": "display_data"
    },
    {
     "name": "stdout",
     "output_type": "stream",
     "text": [
      "i: 0 cost: 821.522610978 error: 0.52079002079\n",
      "i: 100 cost: 512.055752901 error: 0.211018711019\n",
      "i: 200 cost: 481.542515252 error: 0.180873180873\n",
      "i: 300 cost: 468.829031486 error: 0.189189189189\n",
      "i: 400 cost: 473.465792396 error: 0.176715176715\n",
      "best_validation_error: 0.176715176715\n",
      "i: 0 cost: 776.519872445 error: 0.535343035343\n",
      "i: 100 cost: 480.307991104 error: 0.212058212058\n",
      "i: 200 cost: 467.140597238 error: 0.190228690229\n",
      "i: 300 cost: 458.344846903 error: 0.18814968815\n",
      "i: 400 cost: 458.834307944 error: 0.185031185031\n",
      "best_validation_error: 0.185031185031\n",
      "i: 0 cost: 738.966687405 error: 0.648648648649\n",
      "i: 100 cost: 573.141750937 error: 0.241164241164\n",
      "i: 200 cost: 557.764935301 error: 0.212058212058\n",
      "i: 300 cost: 537.823768738 error: 0.198544698545\n",
      "i: 400 cost: 526.126758199 error: 0.199584199584\n",
      "best_validation_error: 0.198544698545\n",
      "i: 0 cost: 669.43644243 error: 0.438669438669\n",
      "i: 100 cost: 474.288688406 error: 0.201663201663\n",
      "i: 200 cost: 453.985534249 error: 0.180873180873\n",
      "i: 300 cost: 444.116255961 error: 0.179833679834\n",
      "i: 400 cost: 443.091436502 error: 0.189189189189\n",
      "best_validation_error: 0.179833679834\n",
      "i: 0 cost: 648.258710139 error: 0.466735966736\n",
      "i: 100 cost: 494.65448692 error: 0.196465696466\n",
      "i: 200 cost: 470.98105905 error: 0.180873180873\n",
      "i: 300 cost: 459.731361145 error: 0.168399168399\n",
      "i: 400 cost: 449.201106536 error: 0.169438669439\n",
      "best_validation_error: 0.168399168399\n",
      "Cross_Validaton Accuracy -- mean: 0.830449251248 stdev: 0.00545290169989\n"
     ]
    }
   ],
   "source": [
    "from __future__ import print_function, division\n",
    "from builtins import range\n",
    "# Note: you may need to update your version of future\n",
    "# sudo pip install -U future\n",
    "\n",
    "import numpy as np\n",
    "import matplotlib.pyplot as plt\n",
    "from sklearn.utils import shuffle\n",
    "from util import getBinaryData, sigmoid, sigmoid_cost, error_rate, relu, crossValidation\n",
    "%matplotlib inline\n",
    "\n",
    "class ANN(object):\n",
    "    \"\"\"\n",
    "    ANN: a simple neural network with one hidden layer, take input for # of hidden units\n",
    "    \"\"\"\n",
    "    def __init__(self, M):\n",
    "        self.M = M\n",
    "\n",
    "    def fit(self, X, Y, learning_rate=8*10e-9, reg=1.0, epochs=500, show_fig=False):\n",
    "        X, Y = shuffle(X, Y)\n",
    "        \n",
    "        N, D = X.shape\n",
    "        Ntrain=int(N*0.8)\n",
    "        \n",
    "        Xvalid, Yvalid = X[Ntrain:], Y[Ntrain:]\n",
    "        X, Y = X[:Ntrain], Y[:Ntrain]\n",
    "        \n",
    "        \n",
    "        self.W1 = np.random.randn(D, self.M) / np.sqrt(D)\n",
    "        self.b1 = np.zeros(self.M)\n",
    "        self.W2 = np.random.randn(self.M) / np.sqrt(self.M)\n",
    "        self.b2 = 0\n",
    "\n",
    "        costs = []\n",
    "        best_validation_error = 1\n",
    "        for i in range(epochs):\n",
    "            # forward propagation and cost calculation\n",
    "            pY, Z = self.forward(X)\n",
    "\n",
    "            # gradient descent step\n",
    "            pY_Y = pY - Y\n",
    "            self.W2 -= learning_rate*(Z.T.dot(pY_Y) + reg*self.W2)\n",
    "            self.b2 -= learning_rate*((pY_Y).sum() + reg*self.b2)\n",
    "\n",
    "            # print \"(pY_Y).dot(self.W2.T) shape:\", (pY_Y).dot(self.W2.T).shape\n",
    "            # print \"Z shape:\", Z.shape\n",
    "            # dZ = np.outer(pY_Y, self.W2) * (Z > 0) for ReLU \n",
    "            dZ = np.outer(pY_Y, self.W2) * (1 - Z*Z)\n",
    "            self.W1 -= learning_rate*(X.T.dot(dZ) + reg*self.W1)\n",
    "            self.b1 -= learning_rate*(np.sum(dZ, axis=0) + reg*self.b1)\n",
    "\n",
    "            if i % 100 == 0:\n",
    "                pYvalid, _ = self.forward(Xvalid)\n",
    "                c = sigmoid_cost(Yvalid, pYvalid)\n",
    "                costs.append(c)\n",
    "                e = error_rate(Yvalid, np.round(pYvalid))\n",
    "                print(\"i:\", i, \"cost:\", c, \"error:\", e)\n",
    "                if e < best_validation_error:\n",
    "                    best_validation_error = e\n",
    "        print(\"best_validation_error:\", best_validation_error)\n",
    "\n",
    "        if show_fig:\n",
    "            plt.plot(costs)\n",
    "            plt.show()\n",
    "\n",
    "\n",
    "    def forward(self, X):\n",
    "        # Z = relu(X.dot(self.W1) + self.b1)\n",
    "        Z = np.tanh(X.dot(self.W1) + self.b1)\n",
    "        return sigmoid(Z.dot(self.W2) + self.b2), Z\n",
    "\n",
    "\n",
    "    def predict(self, X):\n",
    "        pY, _ = self.forward(X)\n",
    "        return np.round(pY)\n",
    "\n",
    "\n",
    "    def score(self, X, Y):\n",
    "        prediction = self.predict(X)\n",
    "        return 1 - error_rate(Y, prediction)\n",
    "\n",
    "\n",
    "def main():\n",
    "    \n",
    "    X, Y = getBinaryData()\n",
    "\n",
    "    X0 = X[Y==0, :]\n",
    "    X1 = X[Y==1, :]\n",
    "    X1 = np.repeat(X1, 2, axis=0)\n",
    "    X = np.vstack([X0, X1])\n",
    "    Y = np.array([0]*len(X0) + [1]*len(X1))\n",
    "    \n",
    "    print (\"Final DataSet: \", X.shape)\n",
    "    \n",
    "\n",
    "    model = ANN(550) #100 hidden units \n",
    "    model.fit(X, Y, show_fig=True)\n",
    "    \n",
    "    scores = crossValidation(model, X, Y, K=5)\n",
    "    print (\"Cross_Validaton Accuracy -- mean:\", np.mean(scores), \"stdev:\", np.std(scores))\n",
    "\n",
    "if __name__ == '__main__':\n",
    "    main()\n"
   ]
  },
  {
   "cell_type": "markdown",
   "metadata": {
    "collapsed": true
   },
   "source": []
  },
  {
   "cell_type": "code",
   "execution_count": null,
   "metadata": {
    "collapsed": true
   },
   "outputs": [],
   "source": []
  }
 ],
 "metadata": {
  "kernelspec": {
   "display_name": "Python 3",
   "language": "python",
   "name": "python3"
  },
  "language_info": {
   "codemirror_mode": {
    "name": "ipython",
    "version": 3
   },
   "file_extension": ".py",
   "mimetype": "text/x-python",
   "name": "python",
   "nbconvert_exporter": "python",
   "pygments_lexer": "ipython3",
   "version": "3.5.1"
  }
 },
 "nbformat": 4,
 "nbformat_minor": 0
}
